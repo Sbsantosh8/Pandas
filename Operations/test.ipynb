{
 "cells": [
  {
   "cell_type": "code",
   "execution_count": 1,
   "id": "9ee93406",
   "metadata": {},
   "outputs": [
    {
     "name": "stdout",
     "output_type": "stream",
     "text": [
      "   A   B  Sum  Product\n",
      "0  1  10   11       10\n",
      "1  2  20   22       40\n",
      "2  3  30   33       90\n"
     ]
    }
   ],
   "source": [
    "# 🔢 1. Vectorized Operations\n",
    "# You can do math operations directly on columns (fast & clean).\n",
    "\n",
    "import pandas as pd\n",
    "\n",
    "df = pd.DataFrame({\n",
    "    'A': [1, 2, 3],\n",
    "    'B': [10, 20, 30]\n",
    "})\n",
    "\n",
    "df['Sum'] = df['A'] + df['B']   # Vectorized addition\n",
    "df['Product'] = df['A'] * df['B']  # Multiplication\n",
    "\n",
    "print(df)\n"
   ]
  },
  {
   "cell_type": "code",
   "execution_count": null,
   "id": "3a3f138f",
   "metadata": {},
   "outputs": [
    {
     "name": "stdout",
     "output_type": "stream",
     "text": [
      "   A   B  Sum  Product\n",
      "0  1  10   11       10\n",
      "1  2  20   22       40\n",
      "2  3  30   33       90\n"
     ]
    }
   ],
   "source": [
    "\n",
    "# ⚙️ 2. .apply() → Apply a function to rows or columns\n",
    "\n",
    "df['Double A'] = df['A'].apply(lambda x: x * 2)\n",
    "print(df)\n",
    "\n",
    "\n",
    "# This doubles each value in column A.\n",
    "\n",
    "# 🧠 Tip: apply() is flexible — use it when you need logic that’s more than just +, -, etc.\n",
    "\n",
    "df[\"Square\"] = df[\"Sum\"].apply(lambda x:x*x)\n",
    "print(df)\n"
   ]
  },
  {
   "cell_type": "code",
   "execution_count": 3,
   "id": "e126e803",
   "metadata": {},
   "outputs": [
    {
     "name": "stdout",
     "output_type": "stream",
     "text": [
      "   A   B  Sum  Product A Status\n",
      "0  1  10   11       10      Low\n",
      "1  2  20   22       40   Medium\n",
      "2  3  30   33       90     High\n"
     ]
    }
   ],
   "source": [
    "# 🧭 3. .map() → For simple element-wise transformation\n",
    "\n",
    "df['A Status'] = df['A'].map({1: 'Low', 2: 'Medium', 3: 'High'})\n",
    "print(df)\n",
    "\n",
    "# Replaces 1 → 'Low', 2 → 'Medium', etc.\n",
    "\n",
    "# ✅ .map() is great when you want to map values to something else (like labels)."
   ]
  }
 ],
 "metadata": {
  "kernelspec": {
   "display_name": "base",
   "language": "python",
   "name": "python3"
  },
  "language_info": {
   "codemirror_mode": {
    "name": "ipython",
    "version": 3
   },
   "file_extension": ".py",
   "mimetype": "text/x-python",
   "name": "python",
   "nbconvert_exporter": "python",
   "pygments_lexer": "ipython3",
   "version": "3.12.7"
  }
 },
 "nbformat": 4,
 "nbformat_minor": 5
}
