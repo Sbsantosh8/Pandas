{
 "cells": [
  {
   "cell_type": "code",
   "execution_count": 2,
   "id": "11d3b662",
   "metadata": {},
   "outputs": [
    {
     "name": "stdout",
     "output_type": "stream",
     "text": [
      "          Amount\n",
      "Category        \n",
      "A            380\n",
      "B            320\n"
     ]
    }
   ],
   "source": [
    "import pandas as pd\n",
    "\n",
    "df = pd.DataFrame({\n",
    "    'Category': ['A', 'B', 'A', 'B', 'A'],\n",
    "    'Amount': [100, 200, 150, 120, 130]\n",
    "})\n",
    "\n",
    "result = df.groupby('Category').sum()\n",
    "print(result)\n"
   ]
  },
  {
   "cell_type": "code",
   "execution_count": null,
   "id": "aa3ab30e",
   "metadata": {},
   "outputs": [
    {
     "name": "stdout",
     "output_type": "stream",
     "text": [
      "             Salary              \n",
      "               mean    max    min\n",
      "Department                       \n",
      "HR          41000.0  42000  40000\n",
      "Sales       52500.0  55000  50000\n",
      "Tech        60000.0  60000  60000\n"
     ]
    }
   ],
   "source": [
    "df = pd.DataFrame({\n",
    "    'Department': ['Sales', 'Sales', 'HR', 'HR', 'Tech'],\n",
    "    'Salary': [50000, 55000, 40000, 42000, 60000]\n",
    "})\n",
    "\n",
    "result = df.groupby('Department').agg(['mean', 'max', 'min'])\n",
    "print(result)\n",
    "\n",
    "print(\"---------------------------------------------------------------\")\n",
    "# ✅ .agg() with Custom Column Names\n",
    "df.groupby('Department').agg(\n",
    "    Avg_Salary=('Salary', 'mean'),\n",
    "    Max_Salary=('Salary', 'max'),\n",
    "    Min_Salary=('Salary', 'min')\n",
    ")\n"
   ]
  }
 ],
 "metadata": {
  "kernelspec": {
   "display_name": "base",
   "language": "python",
   "name": "python3"
  },
  "language_info": {
   "codemirror_mode": {
    "name": "ipython",
    "version": 3
   },
   "file_extension": ".py",
   "mimetype": "text/x-python",
   "name": "python",
   "nbconvert_exporter": "python",
   "pygments_lexer": "ipython3",
   "version": "3.12.7"
  }
 },
 "nbformat": 4,
 "nbformat_minor": 5
}
