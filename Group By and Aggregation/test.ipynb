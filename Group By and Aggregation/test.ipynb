{
 "cells": [
  {
   "cell_type": "code",
   "execution_count": 2,
   "id": "11d3b662",
   "metadata": {},
   "outputs": [
    {
     "name": "stdout",
     "output_type": "stream",
     "text": [
      "          Amount\n",
      "Category        \n",
      "A            380\n",
      "B            320\n"
     ]
    }
   ],
   "source": [
    "import pandas as pd\n",
    "\n",
    "df = pd.DataFrame({\n",
    "    'Category': ['A', 'B', 'A', 'B', 'A'],\n",
    "    'Amount': [100, 200, 150, 120, 130]\n",
    "})\n",
    "\n",
    "result = df.groupby('Category').sum()\n",
    "print(result)\n"
   ]
  },
  {
   "cell_type": "code",
   "execution_count": 4,
   "id": "aa3ab30e",
   "metadata": {},
   "outputs": [
    {
     "name": "stdout",
     "output_type": "stream",
     "text": [
      "             Salary              \n",
      "               mean    max    min\n",
      "Department                       \n",
      "HR          41000.0  42000  40000\n",
      "Sales       52500.0  55000  50000\n",
      "Tech        60000.0  60000  60000\n",
      "---------------------------------------------------------------\n"
     ]
    },
    {
     "data": {
      "application/vnd.microsoft.datawrangler.viewer.v0+json": {
       "columns": [
        {
         "name": "Department",
         "rawType": "object",
         "type": "string"
        },
        {
         "name": "Avg_Salary",
         "rawType": "float64",
         "type": "float"
        },
        {
         "name": "Max_Salary",
         "rawType": "int64",
         "type": "integer"
        },
        {
         "name": "Min_Salary",
         "rawType": "int64",
         "type": "integer"
        }
       ],
       "conversionMethod": "pd.DataFrame",
       "ref": "cd352466-b046-49b8-9734-7c44ddb0193f",
       "rows": [
        [
         "HR",
         "41000.0",
         "42000",
         "40000"
        ],
        [
         "Sales",
         "52500.0",
         "55000",
         "50000"
        ],
        [
         "Tech",
         "60000.0",
         "60000",
         "60000"
        ]
       ],
       "shape": {
        "columns": 3,
        "rows": 3
       }
      },
      "text/html": [
       "<div>\n",
       "<style scoped>\n",
       "    .dataframe tbody tr th:only-of-type {\n",
       "        vertical-align: middle;\n",
       "    }\n",
       "\n",
       "    .dataframe tbody tr th {\n",
       "        vertical-align: top;\n",
       "    }\n",
       "\n",
       "    .dataframe thead th {\n",
       "        text-align: right;\n",
       "    }\n",
       "</style>\n",
       "<table border=\"1\" class=\"dataframe\">\n",
       "  <thead>\n",
       "    <tr style=\"text-align: right;\">\n",
       "      <th></th>\n",
       "      <th>Avg_Salary</th>\n",
       "      <th>Max_Salary</th>\n",
       "      <th>Min_Salary</th>\n",
       "    </tr>\n",
       "    <tr>\n",
       "      <th>Department</th>\n",
       "      <th></th>\n",
       "      <th></th>\n",
       "      <th></th>\n",
       "    </tr>\n",
       "  </thead>\n",
       "  <tbody>\n",
       "    <tr>\n",
       "      <th>HR</th>\n",
       "      <td>41000.0</td>\n",
       "      <td>42000</td>\n",
       "      <td>40000</td>\n",
       "    </tr>\n",
       "    <tr>\n",
       "      <th>Sales</th>\n",
       "      <td>52500.0</td>\n",
       "      <td>55000</td>\n",
       "      <td>50000</td>\n",
       "    </tr>\n",
       "    <tr>\n",
       "      <th>Tech</th>\n",
       "      <td>60000.0</td>\n",
       "      <td>60000</td>\n",
       "      <td>60000</td>\n",
       "    </tr>\n",
       "  </tbody>\n",
       "</table>\n",
       "</div>"
      ],
      "text/plain": [
       "            Avg_Salary  Max_Salary  Min_Salary\n",
       "Department                                    \n",
       "HR             41000.0       42000       40000\n",
       "Sales          52500.0       55000       50000\n",
       "Tech           60000.0       60000       60000"
      ]
     },
     "execution_count": 4,
     "metadata": {},
     "output_type": "execute_result"
    }
   ],
   "source": [
    "df = pd.DataFrame({\n",
    "    'Department': ['Sales', 'Sales', 'HR', 'HR', 'Tech'],\n",
    "    'Salary': [50000, 55000, 40000, 42000, 60000]\n",
    "})\n",
    "\n",
    "result = df.groupby('Department').agg(['mean', 'max', 'min'])\n",
    "print(result)\n",
    "\n",
    "print(\"---------------------------------------------------------------\")\n",
    "# ✅ .agg() with Custom Column Names\n",
    "df.groupby('Department').agg(\n",
    "    Avg_Salary=('Salary', 'mean'),\n",
    "    Max_Salary=('Salary', 'max'),\n",
    "    Min_Salary=('Salary', 'min')\n",
    ")\n"
   ]
  }
 ],
 "metadata": {
  "kernelspec": {
   "display_name": "base",
   "language": "python",
   "name": "python3"
  },
  "language_info": {
   "codemirror_mode": {
    "name": "ipython",
    "version": 3
   },
   "file_extension": ".py",
   "mimetype": "text/x-python",
   "name": "python",
   "nbconvert_exporter": "python",
   "pygments_lexer": "ipython3",
   "version": "3.12.7"
  }
 },
 "nbformat": 4,
 "nbformat_minor": 5
}
