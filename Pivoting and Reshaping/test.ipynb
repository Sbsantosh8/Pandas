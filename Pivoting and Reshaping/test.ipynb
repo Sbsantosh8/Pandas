{
 "cells": [
  {
   "cell_type": "code",
   "execution_count": null,
   "id": "3acf34a0",
   "metadata": {},
   "outputs": [
    {
     "name": "stdout",
     "output_type": "stream",
     "text": [
      "Department    HR  Sales\n",
      "Date                   \n",
      "2024-01     1000   1500\n",
      "2024-02     1100   1800\n"
     ]
    }
   ],
   "source": [
    "# 📊 10. Pivoting & Reshaping\n",
    "\n",
    "# 🔁 .pivot() – Reshape from long to wide format\n",
    "# Restructure data by turning unique values from one column into column headers.\n",
    "\n",
    "import pandas as pd\n",
    "\n",
    "df = pd.DataFrame({\n",
    "    'Date': ['2024-01', '2024-01', '2024-02', '2024-02'],\n",
    "    'Department': ['HR', 'Sales', 'HR', 'Sales'],\n",
    "    'Revenue': [1000, 1500, 1100, 1800]\n",
    "})\n",
    "\n",
    "\n",
    "\n",
    "\n",
    "pivoted = df.pivot(index='Date', columns='Department', values='Revenue')\n",
    "print(pivoted)\n"
   ]
  },
  {
   "cell_type": "code",
   "execution_count": 2,
   "id": "6a717cec",
   "metadata": {},
   "outputs": [
    {
     "name": "stdout",
     "output_type": "stream",
     "text": [
      "Department    HR  Sales\n",
      "Date                   \n",
      "2024-01     1000   1500\n",
      "2024-02     1100   1800\n"
     ]
    }
   ],
   "source": [
    "import pandas as pd\n",
    "\n",
    "df = pd.DataFrame({\n",
    "    'Date': ['2024-01', '2024-01', '2024-02', '2024-02'],\n",
    "    'Department': ['HR', 'Sales', 'HR', 'Sales'],\n",
    "    'Revenue': [1000, 1500, 1100, 1800]\n",
    "})\n",
    "\n",
    "\n",
    "# 🔢 .pivot_table() – Pivot with aggregation (like Excel Pivot Table)\n",
    "# Same as .pivot(), but allows aggregation using sum(), mean(), etc.\n",
    "\n",
    "\n",
    "pivot_tbl = df.pivot_table(index='Date', columns='Department', values='Revenue', aggfunc='sum')\n",
    "print(pivot_tbl)\n",
    "\n",
    "\n",
    "\n",
    "# Same result here because there’s only one row per combination, but it works with duplicates too!\n",
    "\n",
    "\n"
   ]
  },
  {
   "cell_type": "code",
   "execution_count": null,
   "id": "cb0a3555",
   "metadata": {},
   "outputs": [],
   "source": [
    "# 📜 Example where .pivot() would fail, but .pivot_table() works\n",
    "# Imagine if you had this:\n",
    "    \n",
    "df = pd.DataFrame({\n",
    "    'Date': ['2024-01', '2024-01', '2024-01', '2024-02', '2024-02'],\n",
    "    'Department': ['HR', 'Sales', 'HR', 'HR', 'Sales'],\n",
    "    'Revenue': [1000, 1500, 1100, 1200, 1800]\n",
    "})\n",
    "\n",
    "\n",
    "# Now, 'HR' in '2024-01' appears twice.\n",
    "\n",
    "# ❌ Using .pivot():\n",
    "    \n",
    "df.pivot(index='Date', columns='Department', values='Revenue')\n",
    "\n",
    "# → ❗ Error: ValueError: Index contains duplicate entries, cannot reshape\n",
    "\n",
    "\n",
    "\n",
    "# ✅ Using .pivot_table():\n",
    "    \n",
    "df.pivot_table(index='Date', columns='Department', values='Revenue', aggfunc='sum')\n",
    "\n",
    "\n",
    "# No error! It sums the revenues for duplicates:\n",
    "\n",
    "# Department    HR  Sales\n",
    "# Date                   \n",
    "# 2024-01     2100   1500\n",
    "# 2024-02     1200   1800\n",
    "\n",
    "\n",
    "# (1000 + 1100 = 2100 for HR in 2024-01)\n",
    "\n",
    "\n",
    "# ✨ Conclusion:\n",
    "# If no duplicates → .pivot() and .pivot_table() behave similarly.\n",
    "\n",
    "# If duplicates exist → use .pivot_table() with an aggregation function like sum, mean, etc."
   ]
  },
  {
   "cell_type": "code",
   "execution_count": null,
   "id": "7a3a3d32",
   "metadata": {},
   "outputs": [],
   "source": [
    "# 🔻 .melt() – Convert wide format to long format\n",
    "# Unpivots columns into rows — very useful for tidy data.\n",
    "\n",
    "df = pd.DataFrame({\n",
    "    'Date': ['2024-01', '2024-02'],\n",
    "    'HR': [1000, 1100],\n",
    "    'Sales': [1500, 1800]\n",
    "})\n",
    "\n",
    "melted = pd.melt(df, id_vars='Date', value_vars=['HR', 'Sales'], var_name='Department', value_name='Revenue')\n",
    "print(melted)\n"
   ]
  }
 ],
 "metadata": {
  "kernelspec": {
   "display_name": "base",
   "language": "python",
   "name": "python3"
  },
  "language_info": {
   "codemirror_mode": {
    "name": "ipython",
    "version": 3
   },
   "file_extension": ".py",
   "mimetype": "text/x-python",
   "name": "python",
   "nbconvert_exporter": "python",
   "pygments_lexer": "ipython3",
   "version": "3.12.7"
  }
 },
 "nbformat": 4,
 "nbformat_minor": 5
}
