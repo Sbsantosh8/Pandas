{
 "cells": [
  {
   "cell_type": "code",
   "execution_count": null,
   "id": "8c400ce7",
   "metadata": {},
   "outputs": [
    {
     "name": "stdout",
     "output_type": "stream",
     "text": [
      "Condition for Age greater than 25..\n",
      "-----------------------------------------------------------\n",
      "  Name  Age   Sex  City\n",
      "1  Bob   30  Male  Pune\n",
      "-----------------------------------------------------------\n",
      "      Name  Age     Sex    City  New Prefix\n",
      "0    Alice   25  Female  Mumbai   50   Mrs.\n",
      "1      Bob   30    Male    Pune   60    Mr.\n",
      "2  Charlie   22    Male   Delhi   44    Mr.\n",
      "---------------------------------------------\n",
      "      Name  Age     Sex    City  New\n",
      "0    Alice   25  Female  Mumbai   50\n",
      "1      Bob   30    Male    Pune   60\n",
      "2  Charlie   22    Male   Delhi   44\n"
     ]
    }
   ],
   "source": [
    "import pandas as pd\n",
    "\n",
    "\n",
    "\n",
    "data = {\n",
    "    'Name': ['Alice', 'Bob', 'Charlie'],\n",
    "    'Age': [25, 30, 22],\n",
    "    \"Sex\":['Female','Male','Male'],\n",
    "    'City': ['Mumbai', 'Pune', 'Delhi']\n",
    "}\n",
    "\n",
    "df = pd.DataFrame(data)\n",
    "\n",
    "print(\"-----------------------------------------------------------\")\n",
    "print(\"Condition for Age greater than 25..\\n\")\n",
    "print(df[df['Age'] > 25])    \n",
    "\n",
    "# df[(df['Age']>25) & (df['Age']<=30)]\n",
    "print(\"-----------------------------------------------------------\")\n",
    "\n",
    "df['New'] = df['Age'] * 2      # Add new column\n",
    "male_prefix = \"Mr.\" \n",
    "female_prefix = \"Mrs.\"\n",
    "\n",
    "df['Prefix'] = df['Sex'].apply(lambda sex: 'Mr.' if sex == 'Male' else 'Mrs.')\n",
    "\n",
    "print(df)\n",
    "\n",
    "\n",
    "\n",
    "df.drop('Prefix', axis=1, inplace=True) \n",
    "print(\"---------------------------------------------\")\n",
    "print(df)\n",
    "\n",
    "\n"
   ]
  }
 ],
 "metadata": {
  "kernelspec": {
   "display_name": "base",
   "language": "python",
   "name": "python3"
  },
  "language_info": {
   "codemirror_mode": {
    "name": "ipython",
    "version": 3
   },
   "file_extension": ".py",
   "mimetype": "text/x-python",
   "name": "python",
   "nbconvert_exporter": "python",
   "pygments_lexer": "ipython3",
   "version": "3.12.7"
  }
 },
 "nbformat": 4,
 "nbformat_minor": 5
}
