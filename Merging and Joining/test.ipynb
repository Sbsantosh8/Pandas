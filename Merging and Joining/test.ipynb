{
 "cells": [
  {
   "cell_type": "code",
   "execution_count": 1,
   "id": "bf734996",
   "metadata": {},
   "outputs": [
    {
     "name": "stdout",
     "output_type": "stream",
     "text": [
      "   emp_id   name  salary\n",
      "0       1  Alice   50000\n",
      "1       2    Bob   60000\n"
     ]
    }
   ],
   "source": [
    "# 🔗 9. Merging & Joining in pandas\n",
    "\n",
    "# 🔁 1. pd.merge() → SQL-style joins\n",
    "# Joins two DataFrames on columns or keys, similar to SQL joins (INNER, LEFT, RIGHT, OUTER).\n",
    "\n",
    "import pandas as pd\n",
    "\n",
    "df1 = pd.DataFrame({\n",
    "    'emp_id': [1, 2, 3],\n",
    "    'name': ['Alice', 'Bob', 'Charlie']\n",
    "})\n",
    "\n",
    "df2 = pd.DataFrame({\n",
    "    'emp_id': [1, 2, 4],\n",
    "    'salary': [50000, 60000, 70000]\n",
    "})\n",
    "\n",
    "result = pd.merge(df1, df2, on='emp_id', how='inner')\n",
    "print(result)"
   ]
  }
 ],
 "metadata": {
  "kernelspec": {
   "display_name": "base",
   "language": "python",
   "name": "python3"
  },
  "language_info": {
   "codemirror_mode": {
    "name": "ipython",
    "version": 3
   },
   "file_extension": ".py",
   "mimetype": "text/x-python",
   "name": "python",
   "nbconvert_exporter": "python",
   "pygments_lexer": "ipython3",
   "version": "3.12.7"
  }
 },
 "nbformat": 4,
 "nbformat_minor": 5
}
