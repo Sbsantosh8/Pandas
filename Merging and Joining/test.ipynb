{
 "cells": [
  {
   "cell_type": "code",
   "execution_count": null,
   "id": "bf734996",
   "metadata": {},
   "outputs": [
    {
     "name": "stdout",
     "output_type": "stream",
     "text": [
      "   emp_id   name  salary\n",
      "0       1  Alice   50000\n",
      "1       2    Bob   60000\n"
     ]
    }
   ],
   "source": [
    "# 🔗 9. Merging & Joining in pandas\n",
    "\n",
    "# 🔁 1. pd.merge() → SQL-style joins\n",
    "# Joins two DataFrames on columns or keys, similar to SQL joins (INNER, LEFT, RIGHT, OUTER).\n",
    "\n",
    "import pandas as pd\n",
    "\n",
    "df1 = pd.DataFrame({\n",
    "    'emp_id': [1, 2, 3],\n",
    "    'name': ['Alice', 'Bob', 'Charlie']\n",
    "})\n",
    "\n",
    "df2 = pd.DataFrame({\n",
    "    'emp_id': [1, 2, 4],\n",
    "    'salary': [50000, 60000, 70000]\n",
    "})\n",
    "\n",
    "result = pd.merge(df1, df2, on='emp_id', how='inner')\n",
    "print(result)\n",
    "\n",
    "\n",
    "\n",
    "# 🔀 how options in merge():\n",
    "\n",
    "# Join Type\tDescription\n",
    "\n",
    "# 'inner'\tOnly matching keys (default)\n",
    "# 'left'\tAll rows from left, match from right\n",
    "# 'right'\tAll rows from right, match from left\n",
    "# 'outer'\tAll rows from both sides, fill NaNs"
   ]
  },
  {
   "cell_type": "code",
   "execution_count": 3,
   "id": "eb80c7aa",
   "metadata": {},
   "outputs": [
    {
     "name": "stdout",
     "output_type": "stream",
     "text": [
      "    name  salary\n",
      "1  Alice   60000\n",
      "2    Bob   50000\n"
     ]
    }
   ],
   "source": [
    "# 🧩 2. .join() → Join by index\n",
    "\n",
    "# Used to join columns from another DataFrame using the index.\n",
    "\n",
    "\n",
    "df1 = pd.DataFrame({'name': ['Alice', 'Bob']}, index=[1, 2])\n",
    "df2 = pd.DataFrame({'salary': [50000, 60000]}, index=[2, 1])\n",
    "\n",
    "result = df1.join(df2)\n",
    "print(result)\n",
    "\n"
   ]
  },
  {
   "cell_type": "code",
   "execution_count": null,
   "id": "4c465131",
   "metadata": {},
   "outputs": [
    {
     "name": "stdout",
     "output_type": "stream",
     "text": [
      "   A\n",
      "0  1\n",
      "1  2\n",
      "2  3\n",
      "3  4\n",
      "   A  B\n",
      "0  1  x\n",
      "1  2  y\n"
     ]
    }
   ],
   "source": [
    "import pandas as pd\n",
    "# 🧱 3. pd.concat() → Stack vertically or horizontally\n",
    "\n",
    "# ✅ Vertical stack (like UNION in SQL)\n",
    "\n",
    "df1 = pd.DataFrame({'A': [1, 2]})\n",
    "df2 = pd.DataFrame({'A': [3, 4]})\n",
    "df3 = pd.DataFrame({'B':[5,6]})\n",
    "\n",
    "\n",
    "result = pd.concat([df1, df2,df3], ignore_index=True)\n",
    "print(result)\n",
    "\n",
    "\n",
    "\n",
    "# ✅ Horizontal stack (like column expansion)\n",
    "\n",
    "\n",
    "df1 = pd.DataFrame({'A': [1, 2]})\n",
    "df2 = pd.DataFrame({'B': ['x', 'y']})\n",
    "\n",
    "result = pd.concat([df1, df2], axis=1)\n",
    "print(result)\n",
    "\n",
    "\n",
    "\n",
    "\n",
    "# 🔍 Summary\n",
    "\n",
    "# Method\tUse For\n",
    "# pd.merge()\tSQL-style joins on keys\n",
    "# .join()\tJoin by index\n",
    "# pd.concat()\tStack DataFrames (vertical/horizontal)\n",
    "\n"
   ]
  }
 ],
 "metadata": {
  "kernelspec": {
   "display_name": "base",
   "language": "python",
   "name": "python3"
  },
  "language_info": {
   "codemirror_mode": {
    "name": "ipython",
    "version": 3
   },
   "file_extension": ".py",
   "mimetype": "text/x-python",
   "name": "python",
   "nbconvert_exporter": "python",
   "pygments_lexer": "ipython3",
   "version": "3.12.7"
  }
 },
 "nbformat": 4,
 "nbformat_minor": 5
}
