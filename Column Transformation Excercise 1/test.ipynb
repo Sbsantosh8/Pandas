{
 "cells": [
  {
   "cell_type": "code",
   "execution_count": 9,
   "id": "1ed9c8d7",
   "metadata": {},
   "outputs": [
    {
     "name": "stdout",
     "output_type": "stream",
     "text": [
      "  First_Name Last_Name  Age  Salary  Department\n",
      "0       Emma    Wilson   28   58000   Marketing\n",
      "1       Liam    Garcia   34   72000          IT\n",
      "2     Olivia  Martinez   26   61000     Finance\n",
      "3       Noah       Lee   41   83000  Operations\n",
      "-----------------------------------------------\n",
      "  First_Name Last_Name  Age  Salary  Department        Full_Name\n",
      "0       Emma    Wilson   28   58000   Marketing      Emma Wilson\n",
      "1       Liam    Garcia   34   72000          IT      Liam Garcia\n",
      "2     Olivia  Martinez   26   61000     Finance  Olivia Martinez\n",
      "3       Noah       Lee   41   83000  Operations         Noah Lee\n",
      "-----------------------------------------------\n",
      "  First_Name Last_Name  Age  Salary  Department        Full_Name Seniority\n",
      "0       Emma    Wilson   28   58000   Marketing      Emma Wilson    Junior\n",
      "1       Liam    Garcia   34   72000          IT      Liam Garcia    Senior\n",
      "2     Olivia  Martinez   26   61000     Finance  Olivia Martinez    Junior\n",
      "3       Noah       Lee   41   83000  Operations         Noah Lee    Senior\n",
      "-----------------------------------------------\n",
      "  First_Name Last_Name  Age  Salary  Department        Full_Name Seniority  \\\n",
      "0       Emma    Wilson   28   58000   Marketing      Emma Wilson    Junior   \n",
      "1       Liam    Garcia   34   72000          IT      Liam Garcia    Senior   \n",
      "2     Olivia  Martinez   26   61000     Finance  Olivia Martinez    Junior   \n",
      "3       Noah       Lee   41   83000  Operations         Noah Lee    Senior   \n",
      "\n",
      "   Updated_Salary  \n",
      "0         63800.0  \n",
      "1         79200.0  \n",
      "2         67100.0  \n",
      "3         91300.0  \n",
      "-----------------------------------------------\n",
      "  First_Name Last_Name  Age  Salary  Department        Full_Name Seniority  \\\n",
      "0       Emma    Wilson   28   58000   Marketing      Emma Wilson    Junior   \n",
      "1       Liam    Garcia   34   72000          IT      Liam Garcia    Senior   \n",
      "2     Olivia  Martinez   26   61000     Finance  Olivia Martinez    Junior   \n",
      "3       Noah       Lee   41   83000  Operations         Noah Lee    Senior   \n",
      "\n",
      "   Updated_Salary Dept_Code  \n",
      "0         63800.0       MAR  \n",
      "1         79200.0        IT  \n",
      "2         67100.0       FIN  \n",
      "3         91300.0       OPE  \n"
     ]
    }
   ],
   "source": [
    "import pandas as pd\n",
    "\n",
    "data = {\n",
    "    'First_Name': ['Emma', 'Liam', 'Olivia', 'Noah'],\n",
    "    'Last_Name': ['Wilson', 'Garcia', 'Martinez', 'Lee'],\n",
    "    'Age': [28, 34, 26, 41],\n",
    "    'Salary': [58000, 72000, 61000, 83000],\n",
    "    'Department': ['Marketing', 'IT', 'Finance', 'Operations']\n",
    "}\n",
    "\n",
    "df = pd.DataFrame(data)\n",
    "print(df)\n",
    "\n",
    "\n",
    "# Step 2: Column Transformation Tasks\n",
    "# ✅ 1. Combine First_Name and Last_Name into Full_Name\n",
    "\n",
    "print(\"-----------------------------------------------\")\n",
    "\n",
    "df['Full_Name'] = df['First_Name'] + ' ' + df['Last_Name']\n",
    "print(df)\n",
    "\n",
    "print(\"-----------------------------------------------\")\n",
    "# ✅ 2. Create a new column Seniority based on Age\n",
    "\n",
    "df['Seniority'] = df['Age'].apply(lambda x: 'Junior' if x < 30 else 'Senior')\n",
    "print(df)\n",
    "\n",
    "print(\"-----------------------------------------------\")\n",
    "\n",
    "# ✅ 3. Increase Salary by 10% and store in a new column Updated_Salary\n",
    "\n",
    "df['Updated_Salary'] = df['Salary'] * 1.10\n",
    "\n",
    "print(df)\n",
    "print(\"-----------------------------------------------\")\n",
    "# ✅ 4. Extract the first 3 letters of Department into Dept_Code\n",
    "\n",
    "df['Dept_Code'] = df['Department'].str[:3].str.upper()\n",
    "\n",
    "print(df)\n"
   ]
  },
  {
   "cell_type": "code",
   "execution_count": null,
   "id": "74a8a590",
   "metadata": {},
   "outputs": [],
   "source": [
    "\n"
   ]
  }
 ],
 "metadata": {
  "kernelspec": {
   "display_name": "base",
   "language": "python",
   "name": "python3"
  },
  "language_info": {
   "codemirror_mode": {
    "name": "ipython",
    "version": 3
   },
   "file_extension": ".py",
   "mimetype": "text/x-python",
   "name": "python",
   "nbconvert_exporter": "python",
   "pygments_lexer": "ipython3",
   "version": "3.12.7"
  }
 },
 "nbformat": 4,
 "nbformat_minor": 5
}
