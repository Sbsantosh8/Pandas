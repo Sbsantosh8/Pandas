{
 "cells": [
  {
   "cell_type": "code",
   "execution_count": 30,
   "id": "d1542cc7",
   "metadata": {},
   "outputs": [
    {
     "name": "stdout",
     "output_type": "stream",
     "text": [
      "--------------------------------------------------------------\n",
      "Single Column\n",
      "\n",
      "0      Alice\n",
      "1        Bob\n",
      "2    Charlie\n",
      "Name: Name, dtype: object\n",
      "0    25\n",
      "1    30\n",
      "2    22\n",
      "Name: Age, dtype: int64\n",
      "--------------------------------------------------------------\n",
      "Double Column\n",
      "\n",
      "      Name  Age\n",
      "0    Alice   25\n",
      "1      Bob   30\n",
      "2  Charlie   22\n",
      "--------------------------------------------------------------\n",
      "Iloc (Integer Location based indexing)\n",
      "\n",
      "0      Alice\n",
      "1        Bob\n",
      "2    Charlie\n",
      "Name: Name, dtype: object\n",
      "--------------------------------------------------------------\n",
      "Iloc (Label based indexing)\n",
      "\n",
      "Alice\n",
      "0      Alice\n",
      "1        Bob\n",
      "2    Charlie\n",
      "Name: Name, dtype: object\n"
     ]
    }
   ],
   "source": [
    "import pandas as pd\n",
    "\n",
    "data = {\n",
    "    'Name': ['Alice', 'Bob', 'Charlie'],\n",
    "    'Age': [25, 30, 22],\n",
    "    'City': ['Mumbai', 'Pune', 'Delhi']\n",
    "}\n",
    "\n",
    "df = pd.DataFrame(data)\n",
    "print(\"--------------------------------------------------------------\")\n",
    "print(\"Single Column\\n\")\n",
    "\n",
    "print(df[\"Name\"])   #Single Column\n",
    "print(df[\"Age\"])\n",
    "\n",
    "print(\"--------------------------------------------------------------\")\n",
    "print(\"Double Column\\n\")\n",
    "print(df[[\"Name\",\"Age\"]])   # Double Column     \n",
    "\n",
    "print(\"--------------------------------------------------------------\")\n",
    "print(\"Iloc (Integer Location based indexing)\\n\")\n",
    "\n",
    "print(df.iloc[:,0])         # Row by position\n",
    "\n",
    "print(\"--------------------------------------------------------------\")\n",
    "print(\"Iloc (Label based indexing)\\n\")\n",
    "print(df.loc[0,'Name']  )   \n",
    "print(df.loc[:,'Name']  )        # Row by index label\n",
    "\n",
    "\n",
    "#  Both iloc[0] and loc[0] give the same result if your DataFrame has default numerical indexes (0, 1, 2...). If your DataFrame had custom indexes, loc[0] could behave differently.\n",
    "\n"
   ]
  }
 ],
 "metadata": {
  "kernelspec": {
   "display_name": "base",
   "language": "python",
   "name": "python3"
  },
  "language_info": {
   "codemirror_mode": {
    "name": "ipython",
    "version": 3
   },
   "file_extension": ".py",
   "mimetype": "text/x-python",
   "name": "python",
   "nbconvert_exporter": "python",
   "pygments_lexer": "ipython3",
   "version": "3.12.7"
  }
 },
 "nbformat": 4,
 "nbformat_minor": 5
}
