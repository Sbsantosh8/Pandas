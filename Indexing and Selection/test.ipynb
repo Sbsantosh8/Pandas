{
 "cells": [
  {
   "cell_type": "code",
   "execution_count": null,
   "id": "d1542cc7",
   "metadata": {},
   "outputs": [
    {
     "data": {
      "text/plain": [
       "Name     Alice\n",
       "Age         25\n",
       "City    Mumbai\n",
       "Name: 0, dtype: object"
      ]
     },
     "execution_count": 18,
     "metadata": {},
     "output_type": "execute_result"
    }
   ],
   "source": [
    "import pandas as pd\n",
    "\n",
    "data = {\n",
    "    'Name': ['Alice', 'Bob', 'Charlie'],\n",
    "    'Age': [25, 30, 22],\n",
    "    'City': ['Mumbai', 'Pune', 'Delhi']\n",
    "}\n",
    "\n",
    "df = pd.DataFrame(data)\n",
    "\n",
    "# print(df[\"Name\"])   #Single Column\n",
    "\n",
    "\n",
    "# print(df[[\"Name\",\"Age\"]])   # Double Column     \n",
    "\n",
    "\n",
    "\n",
    "# df.iloc[0]         # Row by position\n",
    "\n",
    "# df.loc[0]          # Row by index label\n",
    "\n",
    "\n",
    "#  Both iloc[0] and loc[0] give the same result if your DataFrame has default numerical indexes (0, 1, 2...). If your DataFrame had custom indexes, loc[0] could behave differently.\n",
    "\n"
   ]
  }
 ],
 "metadata": {
  "kernelspec": {
   "display_name": "base",
   "language": "python",
   "name": "python3"
  },
  "language_info": {
   "codemirror_mode": {
    "name": "ipython",
    "version": 3
   },
   "file_extension": ".py",
   "mimetype": "text/x-python",
   "name": "python",
   "nbconvert_exporter": "python",
   "pygments_lexer": "ipython3",
   "version": "3.12.7"
  }
 },
 "nbformat": 4,
 "nbformat_minor": 5
}
