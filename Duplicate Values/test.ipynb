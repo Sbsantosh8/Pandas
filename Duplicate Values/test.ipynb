{
 "cells": [
  {
   "cell_type": "code",
   "execution_count": 3,
   "id": "9d749158",
   "metadata": {},
   "outputs": [
    {
     "name": "stdout",
     "output_type": "stream",
     "text": [
      "      name  age  gender\n",
      "0    Alice   25    male\n",
      "1      Bob   30  female\n",
      "2    Alice   25  female\n",
      "3  Charlie   35    male\n",
      "4      Bob   30  female\n",
      "5    Alice   28  female\n",
      "0    False\n",
      "1    False\n",
      "2    False\n",
      "3    False\n",
      "4     True\n",
      "5    False\n",
      "dtype: bool\n",
      "Duplicates Data Sum : 1\n"
     ]
    }
   ],
   "source": [
    "import pandas as pd\n",
    "\n",
    "\n",
    "\n",
    "data = {\n",
    "    'name': ['Alice', 'Bob', 'Alice', 'Charlie', 'Bob', 'Alice'],\n",
    "    'age': [25, 30, 25, 35, 30, 28],\n",
    "    'gender':['male','female','female','male','female','female']\n",
    "}\n",
    "\n",
    "df = pd.DataFrame(data)\n",
    "print(df)\n",
    "print(df.duplicated())  # to check duplicate data\n",
    "print(f\"Duplicates Data Sum : {df.duplicated().sum()}\")\n",
    "\n",
    "\n",
    "\n",
    "\n",
    "\n",
    "\n",
    "\n",
    "\n",
    "\n"
   ]
  },
  {
   "cell_type": "code",
   "execution_count": 6,
   "id": "93c56a4f",
   "metadata": {},
   "outputs": [
    {
     "name": "stdout",
     "output_type": "stream",
     "text": [
      "--------------------------------------------\n",
      "\n",
      "0    False\n",
      "1    False\n",
      "2    False\n",
      "3     True\n",
      "4    False\n",
      "5     True\n",
      "Name: emp_id, dtype: bool\n",
      "--------------------------------------------\n",
      "\n",
      "Identify duplicate emp_id entries\n",
      "Duplicate emp_id entries:\n",
      "   emp_id   name  age\n",
      "0     101  Alice   25\n",
      "1     102    Bob   30\n",
      "3     101  Alice   25\n",
      "5     102    Bob   30\n",
      "DataFrame after removing duplicates:\n",
      "   emp_id     name  age\n",
      "0     101    Alice   25\n",
      "1     102      Bob   30\n",
      "2     103  Charlie   35\n",
      "4     104    David   40\n"
     ]
    }
   ],
   "source": [
    "import pandas as pd\n",
    "\n",
    "# Sample employee data\n",
    "data = {\n",
    "    'emp_id': [101, 102, 103, 101, 104, 102],\n",
    "    'name': ['Alice', 'Bob', 'Charlie', 'Alice', 'David', 'Bob'],\n",
    "    'age': [25, 30, 35, 25, 40, 30]\n",
    "}\n",
    "\n",
    "df = pd.DataFrame(data)\n",
    "# print(\"Original DataFrame:\")\n",
    "# print(df)\n",
    "\n",
    "print(\"--------------------------------------------\\n\")\n",
    "print(df[\"emp_id\"].duplicated())\n",
    "\n",
    "# In this DataFrame, emp_id values 101 and 102 appear more than once, indicating duplicate entries.\n",
    "print(\"--------------------------------------------\\n\")\n",
    "print(\"Identify duplicate emp_id entries\")\n",
    "# Identify duplicate emp_id entries\n",
    "duplicates = df[df.duplicated(subset='emp_id', keep=False)]\n",
    "print(\"Duplicate emp_id entries:\")\n",
    "print(duplicates)\n",
    "\n",
    "\n",
    "# The duplicated() function checks for duplicate rows based on the specified subset—in this case, the emp_id column. Setting keep=False marks all occurrences of duplicates as True.\n",
    "\n",
    "#  Removing Duplicate emp_id Entries\n",
    "# To remove duplicate emp_id entries and keep only the first occurrence:\n",
    "\n",
    "# Drop duplicate emp_id entries, keeping the first occurrence\n",
    "df_unique = df.drop_duplicates(subset='emp_id', keep='first')\n",
    "print(\"DataFrame after removing duplicates:\")\n",
    "print(df_unique)\n",
    "\n",
    "# Here, the drop_duplicates() function removes duplicate rows based on the emp_id column. The keep='first' parameter ensures that the first occurrence is retained, and subsequent duplicates are dropped\n",
    "\n",
    "\n",
    "# Explanation\n",
    "# subset='emp_id': Specifies that duplicates should be identified based on the emp_id column.\n",
    "\n",
    "# keep='first': Retains the first occurrence of each duplicate and removes the rest.\n",
    "\n",
    "# keep='last': Retains the last occurrence and removes earlier duplicates.\n",
    "\n",
    "# keep=False: Removes all occurrences of duplicates."
   ]
  }
 ],
 "metadata": {
  "kernelspec": {
   "display_name": "base",
   "language": "python",
   "name": "python3"
  },
  "language_info": {
   "codemirror_mode": {
    "name": "ipython",
    "version": 3
   },
   "file_extension": ".py",
   "mimetype": "text/x-python",
   "name": "python",
   "nbconvert_exporter": "python",
   "pygments_lexer": "ipython3",
   "version": "3.12.7"
  }
 },
 "nbformat": 4,
 "nbformat_minor": 5
}
