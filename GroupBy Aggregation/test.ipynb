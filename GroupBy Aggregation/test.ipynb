{
 "cells": [
  {
   "cell_type": "code",
   "execution_count": 17,
   "id": "a08ce4df",
   "metadata": {},
   "outputs": [
    {
     "name": "stdout",
     "output_type": "stream",
     "text": [
      "      Name Department  Salary  Age  Score\n",
      "0    Alice         HR   50000   25     88\n",
      "1      Bob         IT   60000   30     92\n",
      "2  Charlie         HR   52000   28     85\n",
      "3    David         IT   62000   35     95\n",
      "4      Eve    Finance   55000   40     90\n",
      "Department\n",
      "Finance    55000.0\n",
      "HR         51000.0\n",
      "IT         61000.0\n",
      "Name: Salary, dtype: float64\n"
     ]
    }
   ],
   "source": [
    "import pandas as pd\n",
    "\n",
    "# Sample DataFrame\n",
    "data = {\n",
    "    'Name': ['Alice', 'Bob', 'Charlie', 'David', 'Eve'],\n",
    "    'Department': ['HR', 'IT', 'HR', 'IT', 'Finance'],\n",
    "    'Salary': [50000, 60000, 52000, 62000, 55000],\n",
    "    'Age': [25, 30, 28, 35, 40],\n",
    "    'Score': [88, 92, 85, 95, 90]\n",
    "}\n",
    "\n",
    "df = pd.DataFrame(data)\n",
    "print(df)\n",
    "\n",
    "\n",
    "# df.groupby('Department')['Salary'].mean()\n",
    "# df.agg({'Age': 'mean', 'Score': 'sum'})\n",
    "\n",
    "res = df.groupby('Department')['Salary'].aggregate('mean')\n",
    "\n",
    "print(res)\n",
    "\n",
    "\n",
    "\n",
    "\n",
    "\n",
    "\n",
    "\n"
   ]
  }
 ],
 "metadata": {
  "kernelspec": {
   "display_name": "base",
   "language": "python",
   "name": "python3"
  },
  "language_info": {
   "codemirror_mode": {
    "name": "ipython",
    "version": 3
   },
   "file_extension": ".py",
   "mimetype": "text/x-python",
   "name": "python",
   "nbconvert_exporter": "python",
   "pygments_lexer": "ipython3",
   "version": "3.12.7"
  }
 },
 "nbformat": 4,
 "nbformat_minor": 5
}
